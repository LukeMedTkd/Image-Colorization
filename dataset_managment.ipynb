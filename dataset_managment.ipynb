{
  "nbformat": 4,
  "nbformat_minor": 0,
  "metadata": {
    "colab": {
      "provenance": [],
      "mount_file_id": "1RlXQHRaDaFujpfJ_Oi_xRBpPUqNYXK2W",
      "authorship_tag": "ABX9TyOrryg0swQA5VdpZ+dKKvRh",
      "include_colab_link": true
    },
    "kernelspec": {
      "name": "python3",
      "display_name": "Python 3"
    },
    "language_info": {
      "name": "python"
    }
  },
  "cells": [
    {
      "cell_type": "markdown",
      "metadata": {
        "id": "view-in-github",
        "colab_type": "text"
      },
      "source": [
        "<a href=\"https://colab.research.google.com/github/LukeMedTkd/Image-Colorization/blob/main/dataset_managment.ipynb\" target=\"_parent\"><img src=\"https://colab.research.google.com/assets/colab-badge.svg\" alt=\"Open In Colab\"/></a>"
      ]
    },
    {
      "cell_type": "markdown",
      "source": [
        "# IMAGE COLORIZATION - dataset managment\n",
        "Questo notebook ha l'obbiettivo di presentare il dataset scelto per questo studio; ma ancora prima di presentare il dataset, è fondamentale comprendere qual è la domanda di ricerca sulla quale si incentra lo studio.\n",
        "\n",
        "*È possibile “riportare in vita” vecchie foto in bianco e nero con metodi di apprendimento automatico profondo ?*\n",
        "\n",
        "Da questa domanda, ha inizio l'indagine sull'applicazione del deep learning per questo specifico task.\n",
        "In questo notebook, come annunciato prima, verrà presentato il dataset, verranno individuati tutti gli strumenti necessari per l'implementazione che seguirà"
      ],
      "metadata": {
        "id": "R4Ysa53LB8gA"
      }
    },
    {
      "cell_type": "markdown",
      "source": [
        "## Download Dataset"
      ],
      "metadata": {
        "id": "p2bQfiR9SyQ8"
      }
    },
    {
      "cell_type": "code",
      "source": [
        "print('ciao')"
      ],
      "metadata": {
        "colab": {
          "base_uri": "https://localhost:8080/"
        },
        "id": "dng1gP_RS2Qm",
        "outputId": "3c200fdc-6d15-435a-9f0d-19ae55026082"
      },
      "execution_count": 8,
      "outputs": [
        {
          "output_type": "stream",
          "name": "stdout",
          "text": [
            "ciao\n"
          ]
        }
      ]
    }
  ]
}