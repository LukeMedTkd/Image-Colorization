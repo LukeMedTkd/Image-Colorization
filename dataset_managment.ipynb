{
  "nbformat": 4,
  "nbformat_minor": 0,
  "metadata": {
    "colab": {
      "provenance": [],
      "include_colab_link": true
    },
    "kernelspec": {
      "name": "python3",
      "display_name": "Python 3"
    },
    "language_info": {
      "name": "python"
    }
  },
  "cells": [
    {
      "cell_type": "markdown",
      "metadata": {
        "id": "view-in-github",
        "colab_type": "text"
      },
      "source": [
        "<a href=\"https://colab.research.google.com/github/LukeMedTkd/Image-Colorization/blob/main/dataset_managment.ipynb\" target=\"_parent\"><img src=\"https://colab.research.google.com/assets/colab-badge.svg\" alt=\"Open In Colab\"/></a>"
      ]
    },
    {
      "cell_type": "markdown",
      "source": [
        "# IMAGE COLORIZATION - dataset managment\n",
        "Questo notebook ha l'obbiettivo di presentare il dataset scelto per questo studio; ma ancora prima di presentare il dataset, è fondamentale comprendere qual è la domanda di ricerca sulla quale si incentra lo studio.\n",
        "\n",
        "*È possibile “riportare in vita” vecchie foto in bianco e nero con metodi di apprendimento automatico profondo ?*\n",
        "\n",
        "Da questa domanda, ha inizio l'indagine sull'applicazione del deep learning per questo specifico task.\n",
        "In questo notebook, come annunciato prima, verrà presentato il dataset, verranno individuati tutti gli strumenti necessari per l'implementazione che seguirà"
      ],
      "metadata": {
        "id": "R4Ysa53LB8gA"
      }
    },
    {
      "cell_type": "code",
      "source": [
        "from google.colab import drive\n",
        "drive.mount('/content/drive')"
      ],
      "metadata": {
        "id": "t3bKTueOT9K3",
        "outputId": "442d607b-3d4e-4236-f7d6-00141347ce07",
        "colab": {
          "base_uri": "https://localhost:8080/"
        }
      },
      "execution_count": 2,
      "outputs": [
        {
          "output_type": "stream",
          "name": "stdout",
          "text": [
            "Mounted at /content/drive\n"
          ]
        }
      ]
    }
  ]
}